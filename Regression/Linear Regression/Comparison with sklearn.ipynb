{
 "cells": [
  {
   "cell_type": "code",
   "execution_count": 1,
   "metadata": {},
   "outputs": [],
   "source": [
    "import numpy as np\n",
    "import pandas as pd\n",
    "from sklearn import linear_model\n",
    "from tqdm import tqdm"
   ]
  },
  {
   "cell_type": "code",
   "execution_count": 2,
   "metadata": {},
   "outputs": [],
   "source": [
    "data = pd.read_csv('./Dataset/data.csv')"
   ]
  },
  {
   "cell_type": "code",
   "execution_count": 3,
   "metadata": {},
   "outputs": [
    {
     "name": "stdout",
     "output_type": "stream",
     "text": [
      "(11914, 13) (11914, 1)\n"
     ]
    }
   ],
   "source": [
    "# as Make and Model do not provide any essential information towards price, we will drop them\n",
    "X = data.drop(columns=['MSRP', 'Make', 'Model']) \n",
    "Y = data['MSRP'] # MSRP is the car price\n",
    "Y = Y.values.reshape(Y.shape[0], 1)\n",
    "print(X.shape, Y.shape)"
   ]
  },
  {
   "cell_type": "code",
   "execution_count": 4,
   "metadata": {},
   "outputs": [
    {
     "name": "stdout",
     "output_type": "stream",
     "text": [
      "(11914, 116)\n"
     ]
    }
   ],
   "source": [
    "# Changing the categorial values into numerial values so we can run optimization over them\n",
    "X = pd.get_dummies(X, dummy_na=False, columns=['Engine Fuel Type', 'Transmission Type', \n",
    "                                               'Driven_Wheels', 'Vehicle Size', 'Vehicle Style', 'Market Category'])\n",
    "# Filling all the null values, if any, with 0\n",
    "X.fillna(0, inplace=True)\n",
    "print(X.shape)"
   ]
  },
  {
   "cell_type": "code",
   "execution_count": 5,
   "metadata": {},
   "outputs": [
    {
     "name": "stdout",
     "output_type": "stream",
     "text": [
      "Training Data shape\n",
      " X: (10723, 116)\tY:(10723, 1)\n",
      "Testing Data shape\n",
      " X: (1191, 116)\tY:(1191, 1)\n"
     ]
    }
   ],
   "source": [
    "\"\"\" Dividing the dataset into train and test split\"\"\"\n",
    "train_X = X[:-int(0.1*X.shape[0])]\n",
    "train_Y = Y[:-int(0.1*Y.shape[0])]\n",
    "\n",
    "test_X = X[-int(0.1*X.shape[0]):]\n",
    "test_Y = Y[-int(0.1*Y.shape[0]):]\n",
    "\n",
    "print('Training Data shape\\n X: {}\\tY:{}'.format(train_X.shape, train_Y.shape))\n",
    "print('Testing Data shape\\n X: {}\\tY:{}'.format(test_X.shape, test_Y.shape))"
   ]
  },
  {
   "cell_type": "code",
   "execution_count": 6,
   "metadata": {},
   "outputs": [],
   "source": [
    "ols = linear_model.LinearRegression()"
   ]
  },
  {
   "cell_type": "code",
   "execution_count": 7,
   "metadata": {},
   "outputs": [],
   "source": [
    "model = ols.fit(train_X, train_Y)"
   ]
  },
  {
   "cell_type": "code",
   "execution_count": 8,
   "metadata": {},
   "outputs": [],
   "source": [
    "sklearn_y_pred = model.predict(test_X)"
   ]
  },
  {
   "cell_type": "code",
   "execution_count": 9,
   "metadata": {},
   "outputs": [
    {
     "name": "stdout",
     "output_type": "stream",
     "text": [
      "(116, 1)\n"
     ]
    }
   ],
   "source": [
    "# Randomly initializing the parameters\n",
    "m = 0.1*np.random.random_sample((X.shape[1], 1))\n",
    "b = 0.1*np.random.random_sample()\n",
    "print(m.shape)"
   ]
  },
  {
   "cell_type": "code",
   "execution_count": 10,
   "metadata": {},
   "outputs": [],
   "source": [
    "def multivariant_gradient_descent(slope, intercept, learning_rate, num_iter, X, Y):\n",
    "    \"\"\" A vectorised implementation of gradient descent for multivariate linear regression\"\"\"\n",
    "    n = X.shape[0]\n",
    "    for i in tqdm(range(num_iter)):\n",
    "        \n",
    "        # Calculating gradient according to the sum of squared error loss function\n",
    "        grad_slope = n**-1 * np.dot(X.T, (np.dot(X, slope) + intercept - Y))\n",
    "        grad_intercept = n**-1 * np.sum((np.dot(X, slope) + intercept - Y), axis=0)\n",
    "\n",
    "        # updating parameters\n",
    "        slope = slope - (learning_rate*grad_slope)\n",
    "        intercept = intercept - (learning_rate*grad_intercept)\n",
    "    return slope, intercept"
   ]
  },
  {
   "cell_type": "code",
   "execution_count": 11,
   "metadata": {},
   "outputs": [
    {
     "name": "stderr",
     "output_type": "stream",
     "text": [
      "100%|██████████| 10000/10000 [03:12<00:00, 51.95it/s]\n"
     ]
    }
   ],
   "source": [
    "# Running optimization on training data using the gradient descent script written above\n",
    "slope, intercept = multivariant_gradient_descent(m, b, 2*1e-7, 10000, train_X, train_Y)"
   ]
  },
  {
   "cell_type": "code",
   "execution_count": 12,
   "metadata": {},
   "outputs": [],
   "source": [
    "# Running predictions on the test data\n",
    "my_own_function_y_pred = np.dot(test_X, slope) + intercept\n",
    "my_own_function_y_pred = my_own_function_y_pred.astype(dtype=int)"
   ]
  },
  {
   "cell_type": "code",
   "execution_count": 13,
   "metadata": {},
   "outputs": [],
   "source": [
    "# Calculating error on prediction made my the function I wrote\n",
    "my_fun_error = 1/test_Y.shape[0] * np.sum((my_own_function_y_pred - test_Y)**2) \n",
    "\n",
    "# Calculating error on prediction made my the sklearn model\n",
    "sklearn_error = 1/test_Y.shape[0] * np.sum((sklearn_y_pred - test_Y)**2)"
   ]
  },
  {
   "cell_type": "code",
   "execution_count": 14,
   "metadata": {},
   "outputs": [
    {
     "name": "stdout",
     "output_type": "stream",
     "text": [
      "Sum of squared error on the test data using sklearn: 5651103919.657405\n",
      "Sum of squared error on the test data using written gradient descent: 6246049948.120067\n"
     ]
    }
   ],
   "source": [
    "print('Sum of squared error on the test data using sklearn: {}'.format(sklearn_error))\n",
    "print('Sum of squared error on the test data using written gradient descent: {}'.format(my_fun_error))"
   ]
  },
  {
   "cell_type": "code",
   "execution_count": null,
   "metadata": {},
   "outputs": [],
   "source": []
  }
 ],
 "metadata": {
  "kernelspec": {
   "display_name": "Python 3",
   "language": "python",
   "name": "python3"
  },
  "language_info": {
   "codemirror_mode": {
    "name": "ipython",
    "version": 3
   },
   "file_extension": ".py",
   "mimetype": "text/x-python",
   "name": "python",
   "nbconvert_exporter": "python",
   "pygments_lexer": "ipython3",
   "version": "3.5.2"
  }
 },
 "nbformat": 4,
 "nbformat_minor": 2
}
