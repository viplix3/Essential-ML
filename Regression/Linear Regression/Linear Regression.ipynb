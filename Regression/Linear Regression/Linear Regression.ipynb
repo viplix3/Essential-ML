{
 "cells": [
  {
   "cell_type": "code",
   "execution_count": 1,
   "metadata": {},
   "outputs": [],
   "source": [
    "\"\"\" Linear Regression is a supervised optimisation algorithm which tries to find the best fit line of the form\n",
    "    Y = m*X + b for the given data set \"\"\"\n",
    "\n",
    "import numpy as np # numpy library for working with tensors\n",
    "import matplotlib.pyplot as plt # matplotlib library for plotting purposes\n",
    "import pandas as pd # for importing and using data from csv file"
   ]
  },
  {
   "cell_type": "code",
   "execution_count": 2,
   "metadata": {},
   "outputs": [],
   "source": [
    "# Reading training and testing data\n",
    "train = pd.read_csv('./Dataset/train.csv')\n",
    "test = pd.read_csv('./Dataset/test.csv')"
   ]
  },
  {
   "cell_type": "code",
   "execution_count": 3,
   "metadata": {},
   "outputs": [
    {
     "data": {
      "text/html": [
       "<div>\n",
       "<style scoped>\n",
       "    .dataframe tbody tr th:only-of-type {\n",
       "        vertical-align: middle;\n",
       "    }\n",
       "\n",
       "    .dataframe tbody tr th {\n",
       "        vertical-align: top;\n",
       "    }\n",
       "\n",
       "    .dataframe thead th {\n",
       "        text-align: right;\n",
       "    }\n",
       "</style>\n",
       "<table border=\"1\" class=\"dataframe\">\n",
       "  <thead>\n",
       "    <tr style=\"text-align: right;\">\n",
       "      <th></th>\n",
       "      <th>x</th>\n",
       "      <th>y</th>\n",
       "    </tr>\n",
       "  </thead>\n",
       "  <tbody>\n",
       "    <tr>\n",
       "      <th>0</th>\n",
       "      <td>24.0</td>\n",
       "      <td>21.549452</td>\n",
       "    </tr>\n",
       "    <tr>\n",
       "      <th>1</th>\n",
       "      <td>50.0</td>\n",
       "      <td>47.464463</td>\n",
       "    </tr>\n",
       "    <tr>\n",
       "      <th>2</th>\n",
       "      <td>15.0</td>\n",
       "      <td>17.218656</td>\n",
       "    </tr>\n",
       "    <tr>\n",
       "      <th>3</th>\n",
       "      <td>38.0</td>\n",
       "      <td>36.586398</td>\n",
       "    </tr>\n",
       "    <tr>\n",
       "      <th>4</th>\n",
       "      <td>87.0</td>\n",
       "      <td>87.288984</td>\n",
       "    </tr>\n",
       "  </tbody>\n",
       "</table>\n",
       "</div>"
      ],
      "text/plain": [
       "      x          y\n",
       "0  24.0  21.549452\n",
       "1  50.0  47.464463\n",
       "2  15.0  17.218656\n",
       "3  38.0  36.586398\n",
       "4  87.0  87.288984"
      ]
     },
     "execution_count": 3,
     "metadata": {},
     "output_type": "execute_result"
    }
   ],
   "source": [
    "train.head() # peeking the training data"
   ]
  },
  {
   "cell_type": "code",
   "execution_count": 4,
   "metadata": {},
   "outputs": [
    {
     "name": "stdout",
     "output_type": "stream",
     "text": [
      "Shape of training data:\tX = (700,)    Y = (700,)\n",
      "Shape of testing data:\tX = (300,)    Y = (300,)\n"
     ]
    }
   ],
   "source": [
    "X = train['x']\n",
    "Y = train['y']\n",
    "test_X = test['x']\n",
    "test_Y = test['y']\n",
    "print('Shape of training data:\\tX = {}    Y = {}'.format(X.shape, Y.shape))\n",
    "print('Shape of testing data:\\tX = {}    Y = {}'.format(test_X.shape, test_Y.shape))"
   ]
  },
  {
   "cell_type": "code",
   "execution_count": 5,
   "metadata": {},
   "outputs": [
    {
     "data": {
      "image/png": "[encoded data removed]",
      "text/plain": [
       "<Figure size 432x288 with 1 Axes>"
      ]
     },
     "metadata": {},
     "output_type": "display_data"
    }
   ],
   "source": [
    " # plotting the data points using matplotlib scatter plot function\n",
    "plt.xlim(0, 110.0)\n",
    "plt.ylim(0, 110.0)\n",
    "plt.scatter(X, Y)\n",
    "plt.xlabel('Independent Variable')\n",
    "plt.ylabel('Dependent Variable')\n",
    "plt.title('Training Data')\n",
    "plt.show()"
   ]
  },
  {
   "cell_type": "code",
   "execution_count": 11,
   "metadata": {},
   "outputs": [],
   "source": [
    "# defining random values for the regression line Y = m*X + b\n",
    "m = np.random.rand() # m will act as the slope of the regression line\n",
    "b = np.random.rand() # b will act as the Y-intercept of the regression line "
   ]
  },
  {
   "cell_type": "code",
   "execution_count": 7,
   "metadata": {},
   "outputs": [],
   "source": [
    "def gradient_descent_optimizer(slope, intercept, learning_rate, x_train, y_train, num_iter):\n",
    "    \n",
    "    for i in range(num_iter):\n",
    "        # setting gradient of slope and intercept 0 for each interation of gradient descent\n",
    "        grad_slope = 0\n",
    "        grad_intercept = 0\n",
    "        for i in range(len(x_train)):\n",
    "            # using sum of squared as loss function i.e. loss = y_pred - y_true\n",
    "            grad_slope =  - ((y_train[i] - slope*x_train[i] + intercept) *  x_train[i]) # gradient for slope\n",
    "            grad_intercept = y_train[i] - slope*x_train[i] + intercept # gradient for intercept\n",
    "\n",
    "        # averaging over all training examples\n",
    "        grad_slope = 1/len(x_train) * grad_slope\n",
    "        grad_intercept = 1/len(x_train) * grad_intercept\n",
    "        \n",
    "         # updating the parameters according to the given learning rate\n",
    "        slope = slope - learning_rate*grad_slope\n",
    "        intercept = intercept - learning_rate*grad_intercept\n",
    "    return slope, intercept"
   ]
  },
  {
   "cell_type": "code",
   "execution_count": 13,
   "metadata": {},
   "outputs": [
    {
     "name": "stdout",
     "output_type": "stream",
     "text": [
      "Randomly initialized slope before any training: 0.985315\n",
      "Randomly initialized intercept before any training: 0.600319\n",
      "Slope after training: 0.985315\n",
      "Intercept after training: 0.600319\n"
     ]
    }
   ],
   "source": [
    "print('Randomly initialized slope before any training: %f\\nRandomly initialized intercept before any training: %f'\n",
    "      %(m, b))\n",
    "slope, intercept = gradient_descent_optimizer(m, b, 0.01, X, Y, 1000)\n",
    "print('Slope after training: %f\\nIntercept after training: %f' % (slope, intercept))"
   ]
  },
  {
   "cell_type": "code",
   "execution_count": 9,
   "metadata": {},
   "outputs": [
    {
     "data": {
      "image/png": "[encoded data removed]",
      "text/plain": [
       "<Figure size 432x288 with 1 Axes>"
      ]
     },
     "metadata": {},
     "output_type": "display_data"
    }
   ],
   "source": [
    "# plotting the result on training data\n",
    "plt.xlim(0, 110.0)\n",
    "plt.ylim(0, 110.0)\n",
    "plt.plot(X, slope*X+intercept, color='r')\n",
    "plt.scatter(X, Y)\n",
    "plt.title('Resuts on Training Data')\n",
    "plt.show()"
   ]
  },
  {
   "cell_type": "code",
   "execution_count": 10,
   "metadata": {},
   "outputs": [
    {
     "data": {
      "image/png": "[encoded data removed]",
      "text/plain": [
       "<Figure size 432x288 with 1 Axes>"
      ]
     },
     "metadata": {},
     "output_type": "display_data"
    }
   ],
   "source": [
    "# plotting the result on testing data using trained prameters i.e. slope and intercept\n",
    "plt.xlim(0, 110.0)\n",
    "plt.ylim(0, 110.0)\n",
    "plt.plot(test_X, slope*test_X+intercept, color='r')\n",
    "plt.scatter(test_X, test_Y)\n",
    "plt.title('Resuts on Testing Data')\n",
    "plt.show()"
   ]
  },
  {
   "cell_type": "code",
   "execution_count": null,
   "metadata": {},
   "outputs": [],
   "source": []
  }
 ],
 "metadata": {
  "kernelspec": {
   "display_name": "Python 3",
   "language": "python",
   "name": "python3"
  },
  "language_info": {
   "codemirror_mode": {
    "name": "ipython",
    "version": 3
   },
   "file_extension": ".py",
   "mimetype": "text/x-python",
   "name": "python",
   "nbconvert_exporter": "python",
   "pygments_lexer": "ipython3",
   "version": "3.5.2"
  }
 },
 "nbformat": 4,
 "nbformat_minor": 2
}
