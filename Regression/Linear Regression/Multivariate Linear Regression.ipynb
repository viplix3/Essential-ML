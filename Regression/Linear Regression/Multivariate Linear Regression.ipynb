{
 "cells": [
  {
   "cell_type": "code",
   "execution_count": 1,
   "metadata": {},
   "outputs": [],
   "source": [
    "import numpy as np\n",
    "import pandas as pd\n",
    "import matplotlib.pyplot as plt\n",
    "from tqdm import tqdm"
   ]
  },
  {
   "cell_type": "code",
   "execution_count": 2,
   "metadata": {},
   "outputs": [],
   "source": [
    "data = pd.read_csv('./Dataset/data.csv')"
   ]
  },
  {
   "cell_type": "code",
   "execution_count": 3,
   "metadata": {},
   "outputs": [
    {
     "data": {
      "text/html": [
       "<div>\n",
       "<style scoped>\n",
       "    .dataframe tbody tr th:only-of-type {\n",
       "        vertical-align: middle;\n",
       "    }\n",
       "\n",
       "    .dataframe tbody tr th {\n",
       "        vertical-align: top;\n",
       "    }\n",
       "\n",
       "    .dataframe thead th {\n",
       "        text-align: right;\n",
       "    }\n",
       "</style>\n",
       "<table border=\"1\" class=\"dataframe\">\n",
       "  <thead>\n",
       "    <tr style=\"text-align: right;\">\n",
       "      <th></th>\n",
       "      <th>Make</th>\n",
       "      <th>Model</th>\n",
       "      <th>Year</th>\n",
       "      <th>Engine Fuel Type</th>\n",
       "      <th>Engine HP</th>\n",
       "      <th>Engine Cylinders</th>\n",
       "      <th>Transmission Type</th>\n",
       "      <th>Driven_Wheels</th>\n",
       "      <th>Number of Doors</th>\n",
       "      <th>Market Category</th>\n",
       "      <th>Vehicle Size</th>\n",
       "      <th>Vehicle Style</th>\n",
       "      <th>highway MPG</th>\n",
       "      <th>city mpg</th>\n",
       "      <th>Popularity</th>\n",
       "      <th>MSRP</th>\n",
       "    </tr>\n",
       "  </thead>\n",
       "  <tbody>\n",
       "    <tr>\n",
       "      <th>0</th>\n",
       "      <td>BMW</td>\n",
       "      <td>1 Series M</td>\n",
       "      <td>2011</td>\n",
       "      <td>premium unleaded (required)</td>\n",
       "      <td>335.0</td>\n",
       "      <td>6.0</td>\n",
       "      <td>MANUAL</td>\n",
       "      <td>rear wheel drive</td>\n",
       "      <td>2.0</td>\n",
       "      <td>Factory Tuner,Luxury,High-Performance</td>\n",
       "      <td>Compact</td>\n",
       "      <td>Coupe</td>\n",
       "      <td>26</td>\n",
       "      <td>19</td>\n",
       "      <td>3916</td>\n",
       "      <td>46135</td>\n",
       "    </tr>\n",
       "    <tr>\n",
       "      <th>1</th>\n",
       "      <td>BMW</td>\n",
       "      <td>1 Series</td>\n",
       "      <td>2011</td>\n",
       "      <td>premium unleaded (required)</td>\n",
       "      <td>300.0</td>\n",
       "      <td>6.0</td>\n",
       "      <td>MANUAL</td>\n",
       "      <td>rear wheel drive</td>\n",
       "      <td>2.0</td>\n",
       "      <td>Luxury,Performance</td>\n",
       "      <td>Compact</td>\n",
       "      <td>Convertible</td>\n",
       "      <td>28</td>\n",
       "      <td>19</td>\n",
       "      <td>3916</td>\n",
       "      <td>40650</td>\n",
       "    </tr>\n",
       "    <tr>\n",
       "      <th>2</th>\n",
       "      <td>BMW</td>\n",
       "      <td>1 Series</td>\n",
       "      <td>2011</td>\n",
       "      <td>premium unleaded (required)</td>\n",
       "      <td>300.0</td>\n",
       "      <td>6.0</td>\n",
       "      <td>MANUAL</td>\n",
       "      <td>rear wheel drive</td>\n",
       "      <td>2.0</td>\n",
       "      <td>Luxury,High-Performance</td>\n",
       "      <td>Compact</td>\n",
       "      <td>Coupe</td>\n",
       "      <td>28</td>\n",
       "      <td>20</td>\n",
       "      <td>3916</td>\n",
       "      <td>36350</td>\n",
       "    </tr>\n",
       "    <tr>\n",
       "      <th>3</th>\n",
       "      <td>BMW</td>\n",
       "      <td>1 Series</td>\n",
       "      <td>2011</td>\n",
       "      <td>premium unleaded (required)</td>\n",
       "      <td>230.0</td>\n",
       "      <td>6.0</td>\n",
       "      <td>MANUAL</td>\n",
       "      <td>rear wheel drive</td>\n",
       "      <td>2.0</td>\n",
       "      <td>Luxury,Performance</td>\n",
       "      <td>Compact</td>\n",
       "      <td>Coupe</td>\n",
       "      <td>28</td>\n",
       "      <td>18</td>\n",
       "      <td>3916</td>\n",
       "      <td>29450</td>\n",
       "    </tr>\n",
       "    <tr>\n",
       "      <th>4</th>\n",
       "      <td>BMW</td>\n",
       "      <td>1 Series</td>\n",
       "      <td>2011</td>\n",
       "      <td>premium unleaded (required)</td>\n",
       "      <td>230.0</td>\n",
       "      <td>6.0</td>\n",
       "      <td>MANUAL</td>\n",
       "      <td>rear wheel drive</td>\n",
       "      <td>2.0</td>\n",
       "      <td>Luxury</td>\n",
       "      <td>Compact</td>\n",
       "      <td>Convertible</td>\n",
       "      <td>28</td>\n",
       "      <td>18</td>\n",
       "      <td>3916</td>\n",
       "      <td>34500</td>\n",
       "    </tr>\n",
       "  </tbody>\n",
       "</table>\n",
       "</div>"
      ],
      "text/plain": [
       "  Make       Model  Year             Engine Fuel Type  Engine HP  \\\n",
       "0  BMW  1 Series M  2011  premium unleaded (required)      335.0   \n",
       "1  BMW    1 Series  2011  premium unleaded (required)      300.0   \n",
       "2  BMW    1 Series  2011  premium unleaded (required)      300.0   \n",
       "3  BMW    1 Series  2011  premium unleaded (required)      230.0   \n",
       "4  BMW    1 Series  2011  premium unleaded (required)      230.0   \n",
       "\n",
       "   Engine Cylinders Transmission Type     Driven_Wheels  Number of Doors  \\\n",
       "0               6.0            MANUAL  rear wheel drive              2.0   \n",
       "1               6.0            MANUAL  rear wheel drive              2.0   \n",
       "2               6.0            MANUAL  rear wheel drive              2.0   \n",
       "3               6.0            MANUAL  rear wheel drive              2.0   \n",
       "4               6.0            MANUAL  rear wheel drive              2.0   \n",
       "\n",
       "                         Market Category Vehicle Size Vehicle Style  \\\n",
       "0  Factory Tuner,Luxury,High-Performance      Compact         Coupe   \n",
       "1                     Luxury,Performance      Compact   Convertible   \n",
       "2                Luxury,High-Performance      Compact         Coupe   \n",
       "3                     Luxury,Performance      Compact         Coupe   \n",
       "4                                 Luxury      Compact   Convertible   \n",
       "\n",
       "   highway MPG  city mpg  Popularity   MSRP  \n",
       "0           26        19        3916  46135  \n",
       "1           28        19        3916  40650  \n",
       "2           28        20        3916  36350  \n",
       "3           28        18        3916  29450  \n",
       "4           28        18        3916  34500  "
      ]
     },
     "execution_count": 3,
     "metadata": {},
     "output_type": "execute_result"
    }
   ],
   "source": [
    "data.head() # peeking into the car price prediction dataset"
   ]
  },
  {
   "cell_type": "code",
   "execution_count": 4,
   "metadata": {},
   "outputs": [
    {
     "data": {
      "text/plain": [
       "Make                   48\n",
       "Model                 915\n",
       "Year                   28\n",
       "Engine Fuel Type       10\n",
       "Engine HP             356\n",
       "Engine Cylinders        9\n",
       "Transmission Type       5\n",
       "Driven_Wheels           4\n",
       "Number of Doors         3\n",
       "Market Category        71\n",
       "Vehicle Size            3\n",
       "Vehicle Style          16\n",
       "highway MPG            59\n",
       "city mpg               69\n",
       "Popularity             48\n",
       "MSRP                 6049\n",
       "dtype: int64"
      ]
     },
     "execution_count": 4,
     "metadata": {},
     "output_type": "execute_result"
    }
   ],
   "source": [
    "data.nunique()"
   ]
  },
  {
   "cell_type": "code",
   "execution_count": 5,
   "metadata": {},
   "outputs": [
    {
     "name": "stdout",
     "output_type": "stream",
     "text": [
      "(11914, 12) (11914, 1)\n"
     ]
    }
   ],
   "source": [
    "# as Make and Model do not provide any essential information towards price, we will drop them\n",
    "X = data.drop(columns=['MSRP', 'Make', 'Model', 'Market Category']) \n",
    "Y = data['MSRP'] # MSRP is the car price\n",
    "Y = Y.values.reshape(Y.shape[0], 1)\n",
    "print(X.shape, Y.shape)"
   ]
  },
  {
   "cell_type": "code",
   "execution_count": 6,
   "metadata": {},
   "outputs": [
    {
     "name": "stdout",
     "output_type": "stream",
     "text": [
      "(11914, 45)\n"
     ]
    }
   ],
   "source": [
    "# Changing the categorial values into numerial values so we can run optimization over them\n",
    "X = pd.get_dummies(X, dummy_na=False, columns=['Engine Fuel Type', 'Transmission Type', \n",
    "                                               'Driven_Wheels', 'Vehicle Size', 'Vehicle Style'])\n",
    "# Filling all the null values, if any, with 0\n",
    "X.fillna(0, inplace=True)\n",
    "print(X.shape)"
   ]
  },
  {
   "cell_type": "code",
   "execution_count": 7,
   "metadata": {},
   "outputs": [
    {
     "name": "stdout",
     "output_type": "stream",
     "text": [
      "Number of item to normalize: 45\n"
     ]
    }
   ],
   "source": [
    "items = list(X)\n",
    "print('Number of item to normalize: {}'.format(len(items)))"
   ]
  },
  {
   "cell_type": "code",
   "execution_count": 8,
   "metadata": {
    "scrolled": true
   },
   "outputs": [
    {
     "name": "stderr",
     "output_type": "stream",
     "text": [
      "100%|██████████| 11914/11914 [00:05<00:00, 2138.29it/s]\n",
      "100%|██████████| 11914/11914 [00:04<00:00, 2477.23it/s]\n",
      "100%|██████████| 11914/11914 [00:04<00:00, 2466.41it/s]\n",
      "100%|██████████| 11914/11914 [00:04<00:00, 2519.74it/s]\n",
      "100%|██████████| 11914/11914 [00:05<00:00, 2097.40it/s]\n",
      "100%|██████████| 11914/11914 [00:05<00:00, 2096.29it/s]\n",
      "100%|██████████| 11914/11914 [00:05<00:00, 2203.49it/s]\n",
      "100%|██████████| 11914/11914 [00:05<00:00, 2276.46it/s]\n",
      "100%|██████████| 11914/11914 [00:05<00:00, 2119.40it/s]\n",
      "100%|██████████| 11914/11914 [00:05<00:00, 2109.78it/s]\n",
      "100%|██████████| 11914/11914 [00:05<00:00, 2378.02it/s]\n",
      "100%|██████████| 11914/11914 [00:05<00:00, 2349.95it/s]\n",
      "100%|██████████| 11914/11914 [00:05<00:00, 2174.80it/s]\n",
      "100%|██████████| 11914/11914 [00:05<00:00, 2115.31it/s]\n",
      "100%|██████████| 11914/11914 [00:06<00:00, 1945.64it/s]\n",
      "100%|██████████| 11914/11914 [00:04<00:00, 2563.18it/s]\n",
      "100%|██████████| 11914/11914 [00:04<00:00, 2658.07it/s]\n",
      "100%|██████████| 11914/11914 [00:04<00:00, 2689.43it/s]\n",
      "100%|██████████| 11914/11914 [00:04<00:00, 2725.33it/s]\n",
      "100%|██████████| 11914/11914 [00:04<00:00, 2677.87it/s]\n",
      "100%|██████████| 11914/11914 [00:04<00:00, 2656.48it/s]\n",
      "100%|██████████| 11914/11914 [00:04<00:00, 2695.47it/s]\n",
      "100%|██████████| 11914/11914 [00:04<00:00, 2713.45it/s]\n",
      "100%|██████████| 11914/11914 [00:04<00:00, 2645.89it/s]\n",
      "100%|██████████| 11914/11914 [00:04<00:00, 2659.71it/s]\n",
      "100%|██████████| 11914/11914 [00:04<00:00, 2666.40it/s]\n",
      "100%|██████████| 11914/11914 [00:04<00:00, 2647.08it/s]\n",
      "100%|██████████| 11914/11914 [00:04<00:00, 2680.25it/s]\n",
      "100%|██████████| 11914/11914 [00:04<00:00, 2647.00it/s]\n",
      "100%|██████████| 11914/11914 [00:04<00:00, 2634.54it/s]\n",
      "100%|██████████| 11914/11914 [00:04<00:00, 2662.14it/s]\n",
      "100%|██████████| 11914/11914 [00:04<00:00, 2634.52it/s]\n",
      "100%|██████████| 11914/11914 [00:04<00:00, 2702.77it/s]\n",
      "100%|██████████| 11914/11914 [00:04<00:00, 2665.72it/s]\n",
      "100%|██████████| 11914/11914 [00:04<00:00, 2668.81it/s]\n",
      "100%|██████████| 11914/11914 [00:04<00:00, 2643.17it/s]\n",
      "100%|██████████| 11914/11914 [00:04<00:00, 2653.89it/s]\n",
      "100%|██████████| 11914/11914 [00:04<00:00, 2657.47it/s]\n",
      "100%|██████████| 11914/11914 [00:04<00:00, 2653.84it/s]\n",
      "100%|██████████| 11914/11914 [00:04<00:00, 2661.26it/s]\n",
      "100%|██████████| 11914/11914 [00:04<00:00, 2664.95it/s]\n",
      "100%|██████████| 11914/11914 [00:04<00:00, 2635.76it/s]\n",
      "100%|██████████| 11914/11914 [00:04<00:00, 2566.12it/s]\n",
      "100%|██████████| 11914/11914 [00:04<00:00, 2509.25it/s]\n",
      "100%|██████████| 11914/11914 [00:04<00:00, 2672.36it/s]\n"
     ]
    }
   ],
   "source": [
    "for j in items:\n",
    "    max_val = np.max(X[j])\n",
    "    min_val = np.min(X[j])\n",
    "    for i in tqdm(range(X.shape[0])):\n",
    "        X.loc[i, j] = (X.loc[i, j] - min_val) / (max_val - min_val)"
   ]
  },
  {
   "cell_type": "code",
   "execution_count": 9,
   "metadata": {},
   "outputs": [
    {
     "data": {
      "text/html": [
       "<div>\n",
       "<style scoped>\n",
       "    .dataframe tbody tr th:only-of-type {\n",
       "        vertical-align: middle;\n",
       "    }\n",
       "\n",
       "    .dataframe tbody tr th {\n",
       "        vertical-align: top;\n",
       "    }\n",
       "\n",
       "    .dataframe thead th {\n",
       "        text-align: right;\n",
       "    }\n",
       "</style>\n",
       "<table border=\"1\" class=\"dataframe\">\n",
       "  <thead>\n",
       "    <tr style=\"text-align: right;\">\n",
       "      <th></th>\n",
       "      <th>Year</th>\n",
       "      <th>Engine HP</th>\n",
       "      <th>Engine Cylinders</th>\n",
       "      <th>Number of Doors</th>\n",
       "      <th>highway MPG</th>\n",
       "      <th>city mpg</th>\n",
       "      <th>Popularity</th>\n",
       "      <th>Engine Fuel Type_diesel</th>\n",
       "      <th>Engine Fuel Type_electric</th>\n",
       "      <th>Engine Fuel Type_flex-fuel (premium unleaded recommended/E85)</th>\n",
       "      <th>...</th>\n",
       "      <th>Vehicle Style_Convertible</th>\n",
       "      <th>Vehicle Style_Convertible SUV</th>\n",
       "      <th>Vehicle Style_Coupe</th>\n",
       "      <th>Vehicle Style_Crew Cab Pickup</th>\n",
       "      <th>Vehicle Style_Extended Cab Pickup</th>\n",
       "      <th>Vehicle Style_Passenger Minivan</th>\n",
       "      <th>Vehicle Style_Passenger Van</th>\n",
       "      <th>Vehicle Style_Regular Cab Pickup</th>\n",
       "      <th>Vehicle Style_Sedan</th>\n",
       "      <th>Vehicle Style_Wagon</th>\n",
       "    </tr>\n",
       "  </thead>\n",
       "  <tbody>\n",
       "    <tr>\n",
       "      <th>0</th>\n",
       "      <td>0.777778</td>\n",
       "      <td>0.334665</td>\n",
       "      <td>0.375</td>\n",
       "      <td>0.5</td>\n",
       "      <td>0.040936</td>\n",
       "      <td>0.092308</td>\n",
       "      <td>0.692131</td>\n",
       "      <td>0.0</td>\n",
       "      <td>0.0</td>\n",
       "      <td>0.0</td>\n",
       "      <td>...</td>\n",
       "      <td>0.0</td>\n",
       "      <td>0.0</td>\n",
       "      <td>1.0</td>\n",
       "      <td>0.0</td>\n",
       "      <td>0.0</td>\n",
       "      <td>0.0</td>\n",
       "      <td>0.0</td>\n",
       "      <td>0.0</td>\n",
       "      <td>0.0</td>\n",
       "      <td>0.0</td>\n",
       "    </tr>\n",
       "    <tr>\n",
       "      <th>1</th>\n",
       "      <td>0.777778</td>\n",
       "      <td>0.299700</td>\n",
       "      <td>0.375</td>\n",
       "      <td>0.5</td>\n",
       "      <td>0.046784</td>\n",
       "      <td>0.092308</td>\n",
       "      <td>0.692131</td>\n",
       "      <td>0.0</td>\n",
       "      <td>0.0</td>\n",
       "      <td>0.0</td>\n",
       "      <td>...</td>\n",
       "      <td>1.0</td>\n",
       "      <td>0.0</td>\n",
       "      <td>0.0</td>\n",
       "      <td>0.0</td>\n",
       "      <td>0.0</td>\n",
       "      <td>0.0</td>\n",
       "      <td>0.0</td>\n",
       "      <td>0.0</td>\n",
       "      <td>0.0</td>\n",
       "      <td>0.0</td>\n",
       "    </tr>\n",
       "    <tr>\n",
       "      <th>2</th>\n",
       "      <td>0.777778</td>\n",
       "      <td>0.299700</td>\n",
       "      <td>0.375</td>\n",
       "      <td>0.5</td>\n",
       "      <td>0.046784</td>\n",
       "      <td>0.100000</td>\n",
       "      <td>0.692131</td>\n",
       "      <td>0.0</td>\n",
       "      <td>0.0</td>\n",
       "      <td>0.0</td>\n",
       "      <td>...</td>\n",
       "      <td>0.0</td>\n",
       "      <td>0.0</td>\n",
       "      <td>1.0</td>\n",
       "      <td>0.0</td>\n",
       "      <td>0.0</td>\n",
       "      <td>0.0</td>\n",
       "      <td>0.0</td>\n",
       "      <td>0.0</td>\n",
       "      <td>0.0</td>\n",
       "      <td>0.0</td>\n",
       "    </tr>\n",
       "    <tr>\n",
       "      <th>3</th>\n",
       "      <td>0.777778</td>\n",
       "      <td>0.229770</td>\n",
       "      <td>0.375</td>\n",
       "      <td>0.5</td>\n",
       "      <td>0.046784</td>\n",
       "      <td>0.084615</td>\n",
       "      <td>0.692131</td>\n",
       "      <td>0.0</td>\n",
       "      <td>0.0</td>\n",
       "      <td>0.0</td>\n",
       "      <td>...</td>\n",
       "      <td>0.0</td>\n",
       "      <td>0.0</td>\n",
       "      <td>1.0</td>\n",
       "      <td>0.0</td>\n",
       "      <td>0.0</td>\n",
       "      <td>0.0</td>\n",
       "      <td>0.0</td>\n",
       "      <td>0.0</td>\n",
       "      <td>0.0</td>\n",
       "      <td>0.0</td>\n",
       "    </tr>\n",
       "    <tr>\n",
       "      <th>4</th>\n",
       "      <td>0.777778</td>\n",
       "      <td>0.229770</td>\n",
       "      <td>0.375</td>\n",
       "      <td>0.5</td>\n",
       "      <td>0.046784</td>\n",
       "      <td>0.084615</td>\n",
       "      <td>0.692131</td>\n",
       "      <td>0.0</td>\n",
       "      <td>0.0</td>\n",
       "      <td>0.0</td>\n",
       "      <td>...</td>\n",
       "      <td>1.0</td>\n",
       "      <td>0.0</td>\n",
       "      <td>0.0</td>\n",
       "      <td>0.0</td>\n",
       "      <td>0.0</td>\n",
       "      <td>0.0</td>\n",
       "      <td>0.0</td>\n",
       "      <td>0.0</td>\n",
       "      <td>0.0</td>\n",
       "      <td>0.0</td>\n",
       "    </tr>\n",
       "  </tbody>\n",
       "</table>\n",
       "<p>5 rows × 45 columns</p>\n",
       "</div>"
      ],
      "text/plain": [
       "       Year  Engine HP  Engine Cylinders  Number of Doors  highway MPG  \\\n",
       "0  0.777778   0.334665             0.375              0.5     0.040936   \n",
       "1  0.777778   0.299700             0.375              0.5     0.046784   \n",
       "2  0.777778   0.299700             0.375              0.5     0.046784   \n",
       "3  0.777778   0.229770             0.375              0.5     0.046784   \n",
       "4  0.777778   0.229770             0.375              0.5     0.046784   \n",
       "\n",
       "   city mpg  Popularity  Engine Fuel Type_diesel  Engine Fuel Type_electric  \\\n",
       "0  0.092308    0.692131                      0.0                        0.0   \n",
       "1  0.092308    0.692131                      0.0                        0.0   \n",
       "2  0.100000    0.692131                      0.0                        0.0   \n",
       "3  0.084615    0.692131                      0.0                        0.0   \n",
       "4  0.084615    0.692131                      0.0                        0.0   \n",
       "\n",
       "   Engine Fuel Type_flex-fuel (premium unleaded recommended/E85)  \\\n",
       "0                                                0.0               \n",
       "1                                                0.0               \n",
       "2                                                0.0               \n",
       "3                                                0.0               \n",
       "4                                                0.0               \n",
       "\n",
       "          ...           Vehicle Style_Convertible  \\\n",
       "0         ...                                 0.0   \n",
       "1         ...                                 1.0   \n",
       "2         ...                                 0.0   \n",
       "3         ...                                 0.0   \n",
       "4         ...                                 1.0   \n",
       "\n",
       "   Vehicle Style_Convertible SUV  Vehicle Style_Coupe  \\\n",
       "0                            0.0                  1.0   \n",
       "1                            0.0                  0.0   \n",
       "2                            0.0                  1.0   \n",
       "3                            0.0                  1.0   \n",
       "4                            0.0                  0.0   \n",
       "\n",
       "   Vehicle Style_Crew Cab Pickup  Vehicle Style_Extended Cab Pickup  \\\n",
       "0                            0.0                                0.0   \n",
       "1                            0.0                                0.0   \n",
       "2                            0.0                                0.0   \n",
       "3                            0.0                                0.0   \n",
       "4                            0.0                                0.0   \n",
       "\n",
       "   Vehicle Style_Passenger Minivan  Vehicle Style_Passenger Van  \\\n",
       "0                              0.0                          0.0   \n",
       "1                              0.0                          0.0   \n",
       "2                              0.0                          0.0   \n",
       "3                              0.0                          0.0   \n",
       "4                              0.0                          0.0   \n",
       "\n",
       "   Vehicle Style_Regular Cab Pickup  Vehicle Style_Sedan  Vehicle Style_Wagon  \n",
       "0                               0.0                  0.0                  0.0  \n",
       "1                               0.0                  0.0                  0.0  \n",
       "2                               0.0                  0.0                  0.0  \n",
       "3                               0.0                  0.0                  0.0  \n",
       "4                               0.0                  0.0                  0.0  \n",
       "\n",
       "[5 rows x 45 columns]"
      ]
     },
     "execution_count": 9,
     "metadata": {},
     "output_type": "execute_result"
    }
   ],
   "source": [
    "X.head()"
   ]
  },
  {
   "cell_type": "code",
   "execution_count": 10,
   "metadata": {},
   "outputs": [
    {
     "name": "stdout",
     "output_type": "stream",
     "text": [
      "Training Data shape\n",
      " X: (10723, 45)\tY:(10723, 1)\n",
      "Testing Data shape\n",
      " X: (1191, 45)\tY:(1191, 1)\n"
     ]
    }
   ],
   "source": [
    "\"\"\" Dividing the dataset into train and test split\"\"\"\n",
    "train_X = X[:-int(0.1*X.shape[0])]\n",
    "train_Y = Y[:-int(0.1*Y.shape[0])]\n",
    "\n",
    "test_X = X[-int(0.1*X.shape[0]):]\n",
    "test_Y = Y[-int(0.1*Y.shape[0]):]\n",
    "\n",
    "print('Training Data shape\\n X: {}\\tY:{}'.format(train_X.shape, train_Y.shape))\n",
    "print('Testing Data shape\\n X: {}\\tY:{}'.format(test_X.shape, test_Y.shape))"
   ]
  },
  {
   "cell_type": "code",
   "execution_count": 11,
   "metadata": {},
   "outputs": [
    {
     "name": "stdout",
     "output_type": "stream",
     "text": [
      "(45, 1)\n"
     ]
    }
   ],
   "source": [
    "# Randomly initializing the parameters\n",
    "m = 0.1*np.random.random_sample((X.shape[1], 1))\n",
    "b = 0.1*np.random.random_sample()\n",
    "print(m.shape)"
   ]
  },
  {
   "cell_type": "code",
   "execution_count": 12,
   "metadata": {},
   "outputs": [],
   "source": [
    "def multivariant_gradient_descent(slope, intercept, learning_rate, num_iter, X, Y):\n",
    "    \"\"\" A vectorised implementation of gradient descent for multivariate linear regression\"\"\"\n",
    "    n = X.shape[0]\n",
    "    for i in tqdm(range(num_iter)):\n",
    "        \n",
    "        # Calculating gradient according to the sum of squared error loss function\n",
    "        grad_slope = n**-1 * np.dot(X.T, (np.dot(X, slope) + intercept - Y))\n",
    "        grad_intercept = n**-1 * np.sum((np.dot(X, slope) + intercept - Y), axis=0)\n",
    "\n",
    "        # updating parameters\n",
    "        slope = slope - (learning_rate*grad_slope)\n",
    "        intercept = intercept - (learning_rate*grad_intercept)\n",
    "    return slope, intercept"
   ]
  },
  {
   "cell_type": "code",
   "execution_count": 13,
   "metadata": {
    "scrolled": false
   },
   "outputs": [
    {
     "name": "stderr",
     "output_type": "stream",
     "text": [
      "100%|██████████| 10000/10000 [01:36<00:00, 103.48it/s]\n"
     ]
    }
   ],
   "source": [
    "# Running optimization on training data using the gradient descent script written above\n",
    "slope, intercept = multivariant_gradient_descent(m, b, 1e-3, 1000, train_X, train_Y)"
   ]
  },
  {
   "cell_type": "code",
   "execution_count": 14,
   "metadata": {},
   "outputs": [
    {
     "name": "stdout",
     "output_type": "stream",
     "text": [
      "Initial intercept: 0.03972126967379826\n",
      "Intercept after optimization: [10742.77066674]\n"
     ]
    }
   ],
   "source": [
    "print('Initial intercept: {}'.format(b))\n",
    "print('Intercept after optimization: {}'.format(intercept))"
   ]
  },
  {
   "cell_type": "code",
   "execution_count": 18,
   "metadata": {},
   "outputs": [
    {
     "name": "stdout",
     "output_type": "stream",
     "text": [
      "[[38411]\n",
      " [29724]\n",
      " [38411]\n",
      " ...\n",
      " [82375]\n",
      " [44105]\n",
      " [15614]]\n"
     ]
    }
   ],
   "source": [
    "# Running predictions on the test data\n",
    "pred = np.dot(test_X, slope) + intercept\n",
    "pred = pred.astype(dtype=int)\n",
    "print(pred) # Predicted car prices"
   ]
  },
  {
   "cell_type": "code",
   "execution_count": 19,
   "metadata": {},
   "outputs": [
    {
     "name": "stdout",
     "output_type": "stream",
     "text": [
      "[[34515]\n",
      " [38015]\n",
      " [34365]\n",
      " ...\n",
      " [50620]\n",
      " [50920]\n",
      " [28995]]\n"
     ]
    }
   ],
   "source": [
    "print(test_Y) # True price values"
   ]
  },
  {
   "cell_type": "code",
   "execution_count": null,
   "metadata": {},
   "outputs": [],
   "source": []
  }
 ],
 "metadata": {
  "kernelspec": {
   "display_name": "Python 3",
   "language": "python",
   "name": "python3"
  },
  "language_info": {
   "codemirror_mode": {
    "name": "ipython",
    "version": 3
   },
   "file_extension": ".py",
   "mimetype": "text/x-python",
   "name": "python",
   "nbconvert_exporter": "python",
   "pygments_lexer": "ipython3",
   "version": "3.5.2"
  }
 },
 "nbformat": 4,
 "nbformat_minor": 2
}
